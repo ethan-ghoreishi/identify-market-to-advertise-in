{
  "nbformat": 4,
  "nbformat_minor": 0,
  "metadata": {
    "kernelspec": {
      "display_name": "Python 3",
      "language": "python",
      "name": "python3"
    },
    "language_info": {
      "codemirror_mode": {
        "name": "ipython",
        "version": 3
      },
      "file_extension": ".py",
      "mimetype": "text/x-python",
      "name": "python",
      "nbconvert_exporter": "python",
      "pygments_lexer": "ipython3",
      "version": "3.5.1"
    },
    "colab": {
      "name": "market_to_advertise.ipynb",
      "provenance": [],
      "toc_visible": true,
      "include_colab_link": true
    }
  },
  "cells": [
    {
      "cell_type": "markdown",
      "metadata": {
        "id": "view-in-github",
        "colab_type": "text"
      },
      "source": [
        "<a href=\"https://colab.research.google.com/github/ethan-ghoreishi/identify-market-to-advertise-in/blob/master/market_to_advertise.ipynb\" target=\"_parent\"><img src=\"https://colab.research.google.com/assets/colab-badge.svg\" alt=\"Open In Colab\"/></a>"
      ]
    },
    {
      "cell_type": "markdown",
      "metadata": {
        "id": "0rmh8bYmX3PG",
        "colab_type": "text"
      },
      "source": [
        "## Finding the Best Markets to Advertise in"
      ]
    },
    {
      "cell_type": "markdown",
      "metadata": {
        "id": "I05OW9orX3PK",
        "colab_type": "text"
      },
      "source": [
        "The goal in this project is to help an e-learning company find out the two best markets to advertise their product in"
      ]
    },
    {
      "cell_type": "code",
      "metadata": {
        "id": "9_wa2_GqX3PM",
        "colab_type": "code",
        "colab": {}
      },
      "source": [
        "import pandas as pd"
      ],
      "execution_count": 0,
      "outputs": []
    },
    {
      "cell_type": "code",
      "metadata": {
        "id": "SlHkcqjTX3PQ",
        "colab_type": "code",
        "colab": {}
      },
      "source": [
        "fcc = pd.read_csv(\"2017-fCC-New-Coders-Survey-Data.csv\", low_memory=False)"
      ],
      "execution_count": 0,
      "outputs": []
    },
    {
      "cell_type": "code",
      "metadata": {
        "id": "2GelLZyIX3PT",
        "colab_type": "code",
        "outputId": "5a020029-7db4-4c43-a6d8-49350201de79",
        "colab": {
          "base_uri": "https://localhost:8080/",
          "height": 445
        }
      },
      "source": [
        "pd.options.display.max_columns = 150 # to avoid truncated output \n",
        "fcc.head()"
      ],
      "execution_count": 0,
      "outputs": [
        {
          "output_type": "execute_result",
          "data": {
            "text/html": [
              "<div>\n",
              "<style scoped>\n",
              "    .dataframe tbody tr th:only-of-type {\n",
              "        vertical-align: middle;\n",
              "    }\n",
              "\n",
              "    .dataframe tbody tr th {\n",
              "        vertical-align: top;\n",
              "    }\n",
              "\n",
              "    .dataframe thead th {\n",
              "        text-align: right;\n",
              "    }\n",
              "</style>\n",
              "<table border=\"1\" class=\"dataframe\">\n",
              "  <thead>\n",
              "    <tr style=\"text-align: right;\">\n",
              "      <th></th>\n",
              "      <th>Age</th>\n",
              "      <th>AttendedBootcamp</th>\n",
              "      <th>BootcampFinish</th>\n",
              "      <th>BootcampLoanYesNo</th>\n",
              "      <th>BootcampName</th>\n",
              "      <th>BootcampRecommend</th>\n",
              "      <th>ChildrenNumber</th>\n",
              "      <th>CityPopulation</th>\n",
              "      <th>CodeEventConferences</th>\n",
              "      <th>CodeEventDjangoGirls</th>\n",
              "      <th>CodeEventFCC</th>\n",
              "      <th>CodeEventGameJam</th>\n",
              "      <th>CodeEventGirlDev</th>\n",
              "      <th>CodeEventHackathons</th>\n",
              "      <th>CodeEventMeetup</th>\n",
              "      <th>CodeEventNodeSchool</th>\n",
              "      <th>CodeEventNone</th>\n",
              "      <th>CodeEventOther</th>\n",
              "      <th>CodeEventRailsBridge</th>\n",
              "      <th>CodeEventRailsGirls</th>\n",
              "      <th>CodeEventStartUpWknd</th>\n",
              "      <th>CodeEventWkdBootcamps</th>\n",
              "      <th>CodeEventWomenCode</th>\n",
              "      <th>CodeEventWorkshops</th>\n",
              "      <th>CommuteTime</th>\n",
              "      <th>CountryCitizen</th>\n",
              "      <th>CountryLive</th>\n",
              "      <th>EmploymentField</th>\n",
              "      <th>EmploymentFieldOther</th>\n",
              "      <th>EmploymentStatus</th>\n",
              "      <th>EmploymentStatusOther</th>\n",
              "      <th>ExpectedEarning</th>\n",
              "      <th>FinanciallySupporting</th>\n",
              "      <th>FirstDevJob</th>\n",
              "      <th>Gender</th>\n",
              "      <th>GenderOther</th>\n",
              "      <th>HasChildren</th>\n",
              "      <th>HasDebt</th>\n",
              "      <th>HasFinancialDependents</th>\n",
              "      <th>HasHighSpdInternet</th>\n",
              "      <th>HasHomeMortgage</th>\n",
              "      <th>HasServedInMilitary</th>\n",
              "      <th>HasStudentDebt</th>\n",
              "      <th>HomeMortgageOwe</th>\n",
              "      <th>HoursLearning</th>\n",
              "      <th>ID.x</th>\n",
              "      <th>ID.y</th>\n",
              "      <th>Income</th>\n",
              "      <th>IsEthnicMinority</th>\n",
              "      <th>IsReceiveDisabilitiesBenefits</th>\n",
              "      <th>IsSoftwareDev</th>\n",
              "      <th>IsUnderEmployed</th>\n",
              "      <th>JobApplyWhen</th>\n",
              "      <th>JobInterestBackEnd</th>\n",
              "      <th>JobInterestDataEngr</th>\n",
              "      <th>JobInterestDataSci</th>\n",
              "      <th>JobInterestDevOps</th>\n",
              "      <th>JobInterestFrontEnd</th>\n",
              "      <th>JobInterestFullStack</th>\n",
              "      <th>JobInterestGameDev</th>\n",
              "      <th>JobInterestInfoSec</th>\n",
              "      <th>JobInterestMobile</th>\n",
              "      <th>JobInterestOther</th>\n",
              "      <th>JobInterestProjMngr</th>\n",
              "      <th>JobInterestQAEngr</th>\n",
              "      <th>JobInterestUX</th>\n",
              "      <th>JobPref</th>\n",
              "      <th>JobRelocateYesNo</th>\n",
              "      <th>JobRoleInterest</th>\n",
              "      <th>JobWherePref</th>\n",
              "      <th>LanguageAtHome</th>\n",
              "      <th>MaritalStatus</th>\n",
              "      <th>MoneyForLearning</th>\n",
              "      <th>MonthsProgramming</th>\n",
              "      <th>NetworkID</th>\n",
              "      <th>Part1EndTime</th>\n",
              "      <th>Part1StartTime</th>\n",
              "      <th>Part2EndTime</th>\n",
              "      <th>Part2StartTime</th>\n",
              "      <th>PodcastChangeLog</th>\n",
              "      <th>PodcastCodeNewbie</th>\n",
              "      <th>PodcastCodePen</th>\n",
              "      <th>PodcastDevTea</th>\n",
              "      <th>PodcastDotNET</th>\n",
              "      <th>PodcastGiantRobots</th>\n",
              "      <th>PodcastJSAir</th>\n",
              "      <th>PodcastJSJabber</th>\n",
              "      <th>PodcastNone</th>\n",
              "      <th>PodcastOther</th>\n",
              "      <th>PodcastProgThrowdown</th>\n",
              "      <th>PodcastRubyRogues</th>\n",
              "      <th>PodcastSEDaily</th>\n",
              "      <th>PodcastSERadio</th>\n",
              "      <th>PodcastShopTalk</th>\n",
              "      <th>PodcastTalkPython</th>\n",
              "      <th>PodcastTheWebAhead</th>\n",
              "      <th>ResourceCodecademy</th>\n",
              "      <th>ResourceCodeWars</th>\n",
              "      <th>ResourceCoursera</th>\n",
              "      <th>ResourceCSS</th>\n",
              "      <th>ResourceEdX</th>\n",
              "      <th>ResourceEgghead</th>\n",
              "      <th>ResourceFCC</th>\n",
              "      <th>ResourceHackerRank</th>\n",
              "      <th>ResourceKA</th>\n",
              "      <th>ResourceLynda</th>\n",
              "      <th>ResourceMDN</th>\n",
              "      <th>ResourceOdinProj</th>\n",
              "      <th>ResourceOther</th>\n",
              "      <th>ResourcePluralSight</th>\n",
              "      <th>ResourceSkillcrush</th>\n",
              "      <th>ResourceSO</th>\n",
              "      <th>ResourceTreehouse</th>\n",
              "      <th>ResourceUdacity</th>\n",
              "      <th>ResourceUdemy</th>\n",
              "      <th>ResourceW3S</th>\n",
              "      <th>SchoolDegree</th>\n",
              "      <th>SchoolMajor</th>\n",
              "      <th>StudentDebtOwe</th>\n",
              "      <th>YouTubeCodeCourse</th>\n",
              "      <th>YouTubeCodingTrain</th>\n",
              "      <th>YouTubeCodingTut360</th>\n",
              "      <th>YouTubeComputerphile</th>\n",
              "      <th>YouTubeDerekBanas</th>\n",
              "      <th>YouTubeDevTips</th>\n",
              "      <th>YouTubeEngineeredTruth</th>\n",
              "      <th>YouTubeFCC</th>\n",
              "      <th>YouTubeFunFunFunction</th>\n",
              "      <th>YouTubeGoogleDev</th>\n",
              "      <th>YouTubeLearnCode</th>\n",
              "      <th>YouTubeLevelUpTuts</th>\n",
              "      <th>YouTubeMIT</th>\n",
              "      <th>YouTubeMozillaHacks</th>\n",
              "      <th>YouTubeOther</th>\n",
              "      <th>YouTubeSimplilearn</th>\n",
              "      <th>YouTubeTheNewBoston</th>\n",
              "    </tr>\n",
              "  </thead>\n",
              "  <tbody>\n",
              "    <tr>\n",
              "      <th>0</th>\n",
              "      <td>27.0</td>\n",
              "      <td>0.0</td>\n",
              "      <td>NaN</td>\n",
              "      <td>NaN</td>\n",
              "      <td>NaN</td>\n",
              "      <td>NaN</td>\n",
              "      <td>NaN</td>\n",
              "      <td>more than 1 million</td>\n",
              "      <td>NaN</td>\n",
              "      <td>NaN</td>\n",
              "      <td>NaN</td>\n",
              "      <td>NaN</td>\n",
              "      <td>NaN</td>\n",
              "      <td>NaN</td>\n",
              "      <td>NaN</td>\n",
              "      <td>NaN</td>\n",
              "      <td>NaN</td>\n",
              "      <td>NaN</td>\n",
              "      <td>NaN</td>\n",
              "      <td>NaN</td>\n",
              "      <td>NaN</td>\n",
              "      <td>NaN</td>\n",
              "      <td>NaN</td>\n",
              "      <td>NaN</td>\n",
              "      <td>15 to 29 minutes</td>\n",
              "      <td>Canada</td>\n",
              "      <td>Canada</td>\n",
              "      <td>software development and IT</td>\n",
              "      <td>NaN</td>\n",
              "      <td>Employed for wages</td>\n",
              "      <td>NaN</td>\n",
              "      <td>NaN</td>\n",
              "      <td>NaN</td>\n",
              "      <td>NaN</td>\n",
              "      <td>female</td>\n",
              "      <td>NaN</td>\n",
              "      <td>NaN</td>\n",
              "      <td>1.0</td>\n",
              "      <td>0.0</td>\n",
              "      <td>1.0</td>\n",
              "      <td>0.0</td>\n",
              "      <td>0.0</td>\n",
              "      <td>0.0</td>\n",
              "      <td>NaN</td>\n",
              "      <td>15.0</td>\n",
              "      <td>02d9465b21e8bd09374b0066fb2d5614</td>\n",
              "      <td>eb78c1c3ac6cd9052aec557065070fbf</td>\n",
              "      <td>NaN</td>\n",
              "      <td>NaN</td>\n",
              "      <td>0.0</td>\n",
              "      <td>0.0</td>\n",
              "      <td>0.0</td>\n",
              "      <td>NaN</td>\n",
              "      <td>NaN</td>\n",
              "      <td>NaN</td>\n",
              "      <td>NaN</td>\n",
              "      <td>NaN</td>\n",
              "      <td>NaN</td>\n",
              "      <td>NaN</td>\n",
              "      <td>NaN</td>\n",
              "      <td>NaN</td>\n",
              "      <td>NaN</td>\n",
              "      <td>NaN</td>\n",
              "      <td>NaN</td>\n",
              "      <td>NaN</td>\n",
              "      <td>NaN</td>\n",
              "      <td>start your own business</td>\n",
              "      <td>NaN</td>\n",
              "      <td>NaN</td>\n",
              "      <td>NaN</td>\n",
              "      <td>English</td>\n",
              "      <td>married or domestic partnership</td>\n",
              "      <td>150.0</td>\n",
              "      <td>6.0</td>\n",
              "      <td>6f1fbc6b2b</td>\n",
              "      <td>2017-03-09 00:36:22</td>\n",
              "      <td>2017-03-09 00:32:59</td>\n",
              "      <td>2017-03-09 00:59:46</td>\n",
              "      <td>2017-03-09 00:36:26</td>\n",
              "      <td>NaN</td>\n",
              "      <td>NaN</td>\n",
              "      <td>NaN</td>\n",
              "      <td>1.0</td>\n",
              "      <td>NaN</td>\n",
              "      <td>NaN</td>\n",
              "      <td>NaN</td>\n",
              "      <td>NaN</td>\n",
              "      <td>NaN</td>\n",
              "      <td>NaN</td>\n",
              "      <td>NaN</td>\n",
              "      <td>NaN</td>\n",
              "      <td>NaN</td>\n",
              "      <td>NaN</td>\n",
              "      <td>NaN</td>\n",
              "      <td>NaN</td>\n",
              "      <td>NaN</td>\n",
              "      <td>1.0</td>\n",
              "      <td>NaN</td>\n",
              "      <td>NaN</td>\n",
              "      <td>NaN</td>\n",
              "      <td>NaN</td>\n",
              "      <td>NaN</td>\n",
              "      <td>1.0</td>\n",
              "      <td>NaN</td>\n",
              "      <td>NaN</td>\n",
              "      <td>NaN</td>\n",
              "      <td>1.0</td>\n",
              "      <td>NaN</td>\n",
              "      <td>NaN</td>\n",
              "      <td>NaN</td>\n",
              "      <td>NaN</td>\n",
              "      <td>NaN</td>\n",
              "      <td>NaN</td>\n",
              "      <td>NaN</td>\n",
              "      <td>1.0</td>\n",
              "      <td>1.0</td>\n",
              "      <td>some college credit, no degree</td>\n",
              "      <td>NaN</td>\n",
              "      <td>NaN</td>\n",
              "      <td>NaN</td>\n",
              "      <td>NaN</td>\n",
              "      <td>NaN</td>\n",
              "      <td>NaN</td>\n",
              "      <td>NaN</td>\n",
              "      <td>NaN</td>\n",
              "      <td>NaN</td>\n",
              "      <td>NaN</td>\n",
              "      <td>NaN</td>\n",
              "      <td>NaN</td>\n",
              "      <td>NaN</td>\n",
              "      <td>NaN</td>\n",
              "      <td>NaN</td>\n",
              "      <td>NaN</td>\n",
              "      <td>NaN</td>\n",
              "      <td>NaN</td>\n",
              "      <td>NaN</td>\n",
              "    </tr>\n",
              "    <tr>\n",
              "      <th>1</th>\n",
              "      <td>34.0</td>\n",
              "      <td>0.0</td>\n",
              "      <td>NaN</td>\n",
              "      <td>NaN</td>\n",
              "      <td>NaN</td>\n",
              "      <td>NaN</td>\n",
              "      <td>NaN</td>\n",
              "      <td>less than 100,000</td>\n",
              "      <td>NaN</td>\n",
              "      <td>NaN</td>\n",
              "      <td>NaN</td>\n",
              "      <td>NaN</td>\n",
              "      <td>NaN</td>\n",
              "      <td>NaN</td>\n",
              "      <td>NaN</td>\n",
              "      <td>NaN</td>\n",
              "      <td>NaN</td>\n",
              "      <td>NaN</td>\n",
              "      <td>NaN</td>\n",
              "      <td>NaN</td>\n",
              "      <td>NaN</td>\n",
              "      <td>NaN</td>\n",
              "      <td>NaN</td>\n",
              "      <td>NaN</td>\n",
              "      <td>NaN</td>\n",
              "      <td>United States of America</td>\n",
              "      <td>United States of America</td>\n",
              "      <td>NaN</td>\n",
              "      <td>NaN</td>\n",
              "      <td>Not working but looking for work</td>\n",
              "      <td>NaN</td>\n",
              "      <td>35000.0</td>\n",
              "      <td>NaN</td>\n",
              "      <td>NaN</td>\n",
              "      <td>male</td>\n",
              "      <td>NaN</td>\n",
              "      <td>NaN</td>\n",
              "      <td>1.0</td>\n",
              "      <td>0.0</td>\n",
              "      <td>1.0</td>\n",
              "      <td>0.0</td>\n",
              "      <td>0.0</td>\n",
              "      <td>1.0</td>\n",
              "      <td>NaN</td>\n",
              "      <td>10.0</td>\n",
              "      <td>5bfef9ecb211ec4f518cfc1d2a6f3e0c</td>\n",
              "      <td>21db37adb60cdcafadfa7dca1b13b6b1</td>\n",
              "      <td>NaN</td>\n",
              "      <td>0.0</td>\n",
              "      <td>0.0</td>\n",
              "      <td>0.0</td>\n",
              "      <td>NaN</td>\n",
              "      <td>Within 7 to 12 months</td>\n",
              "      <td>NaN</td>\n",
              "      <td>NaN</td>\n",
              "      <td>NaN</td>\n",
              "      <td>NaN</td>\n",
              "      <td>NaN</td>\n",
              "      <td>1.0</td>\n",
              "      <td>NaN</td>\n",
              "      <td>NaN</td>\n",
              "      <td>NaN</td>\n",
              "      <td>NaN</td>\n",
              "      <td>NaN</td>\n",
              "      <td>NaN</td>\n",
              "      <td>NaN</td>\n",
              "      <td>work for a nonprofit</td>\n",
              "      <td>1.0</td>\n",
              "      <td>Full-Stack Web Developer</td>\n",
              "      <td>in an office with other developers</td>\n",
              "      <td>English</td>\n",
              "      <td>single, never married</td>\n",
              "      <td>80.0</td>\n",
              "      <td>6.0</td>\n",
              "      <td>f8f8be6910</td>\n",
              "      <td>2017-03-09 00:37:07</td>\n",
              "      <td>2017-03-09 00:33:26</td>\n",
              "      <td>2017-03-09 00:38:59</td>\n",
              "      <td>2017-03-09 00:37:10</td>\n",
              "      <td>NaN</td>\n",
              "      <td>1.0</td>\n",
              "      <td>NaN</td>\n",
              "      <td>NaN</td>\n",
              "      <td>NaN</td>\n",
              "      <td>NaN</td>\n",
              "      <td>NaN</td>\n",
              "      <td>NaN</td>\n",
              "      <td>NaN</td>\n",
              "      <td>NaN</td>\n",
              "      <td>NaN</td>\n",
              "      <td>NaN</td>\n",
              "      <td>NaN</td>\n",
              "      <td>NaN</td>\n",
              "      <td>NaN</td>\n",
              "      <td>NaN</td>\n",
              "      <td>NaN</td>\n",
              "      <td>1.0</td>\n",
              "      <td>NaN</td>\n",
              "      <td>NaN</td>\n",
              "      <td>1.0</td>\n",
              "      <td>NaN</td>\n",
              "      <td>NaN</td>\n",
              "      <td>1.0</td>\n",
              "      <td>NaN</td>\n",
              "      <td>NaN</td>\n",
              "      <td>NaN</td>\n",
              "      <td>NaN</td>\n",
              "      <td>NaN</td>\n",
              "      <td>NaN</td>\n",
              "      <td>NaN</td>\n",
              "      <td>NaN</td>\n",
              "      <td>1.0</td>\n",
              "      <td>NaN</td>\n",
              "      <td>NaN</td>\n",
              "      <td>1.0</td>\n",
              "      <td>1.0</td>\n",
              "      <td>some college credit, no degree</td>\n",
              "      <td>NaN</td>\n",
              "      <td>NaN</td>\n",
              "      <td>NaN</td>\n",
              "      <td>NaN</td>\n",
              "      <td>NaN</td>\n",
              "      <td>NaN</td>\n",
              "      <td>NaN</td>\n",
              "      <td>NaN</td>\n",
              "      <td>NaN</td>\n",
              "      <td>1.0</td>\n",
              "      <td>NaN</td>\n",
              "      <td>NaN</td>\n",
              "      <td>NaN</td>\n",
              "      <td>NaN</td>\n",
              "      <td>NaN</td>\n",
              "      <td>NaN</td>\n",
              "      <td>NaN</td>\n",
              "      <td>NaN</td>\n",
              "      <td>NaN</td>\n",
              "    </tr>\n",
              "    <tr>\n",
              "      <th>2</th>\n",
              "      <td>21.0</td>\n",
              "      <td>0.0</td>\n",
              "      <td>NaN</td>\n",
              "      <td>NaN</td>\n",
              "      <td>NaN</td>\n",
              "      <td>NaN</td>\n",
              "      <td>NaN</td>\n",
              "      <td>more than 1 million</td>\n",
              "      <td>NaN</td>\n",
              "      <td>NaN</td>\n",
              "      <td>NaN</td>\n",
              "      <td>NaN</td>\n",
              "      <td>NaN</td>\n",
              "      <td>1.0</td>\n",
              "      <td>NaN</td>\n",
              "      <td>1.0</td>\n",
              "      <td>NaN</td>\n",
              "      <td>NaN</td>\n",
              "      <td>NaN</td>\n",
              "      <td>NaN</td>\n",
              "      <td>NaN</td>\n",
              "      <td>NaN</td>\n",
              "      <td>NaN</td>\n",
              "      <td>NaN</td>\n",
              "      <td>15 to 29 minutes</td>\n",
              "      <td>United States of America</td>\n",
              "      <td>United States of America</td>\n",
              "      <td>software development and IT</td>\n",
              "      <td>NaN</td>\n",
              "      <td>Employed for wages</td>\n",
              "      <td>NaN</td>\n",
              "      <td>70000.0</td>\n",
              "      <td>NaN</td>\n",
              "      <td>NaN</td>\n",
              "      <td>male</td>\n",
              "      <td>NaN</td>\n",
              "      <td>NaN</td>\n",
              "      <td>0.0</td>\n",
              "      <td>0.0</td>\n",
              "      <td>1.0</td>\n",
              "      <td>NaN</td>\n",
              "      <td>0.0</td>\n",
              "      <td>NaN</td>\n",
              "      <td>NaN</td>\n",
              "      <td>25.0</td>\n",
              "      <td>14f1863afa9c7de488050b82eb3edd96</td>\n",
              "      <td>21ba173828fbe9e27ccebaf4d5166a55</td>\n",
              "      <td>13000.0</td>\n",
              "      <td>1.0</td>\n",
              "      <td>0.0</td>\n",
              "      <td>0.0</td>\n",
              "      <td>0.0</td>\n",
              "      <td>Within 7 to 12 months</td>\n",
              "      <td>1.0</td>\n",
              "      <td>NaN</td>\n",
              "      <td>NaN</td>\n",
              "      <td>1.0</td>\n",
              "      <td>1.0</td>\n",
              "      <td>1.0</td>\n",
              "      <td>NaN</td>\n",
              "      <td>NaN</td>\n",
              "      <td>1.0</td>\n",
              "      <td>NaN</td>\n",
              "      <td>NaN</td>\n",
              "      <td>NaN</td>\n",
              "      <td>NaN</td>\n",
              "      <td>work for a medium-sized company</td>\n",
              "      <td>1.0</td>\n",
              "      <td>Front-End Web Developer, Back-End Web Develo...</td>\n",
              "      <td>no preference</td>\n",
              "      <td>Spanish</td>\n",
              "      <td>single, never married</td>\n",
              "      <td>1000.0</td>\n",
              "      <td>5.0</td>\n",
              "      <td>2ed189768e</td>\n",
              "      <td>2017-03-09 00:37:58</td>\n",
              "      <td>2017-03-09 00:33:53</td>\n",
              "      <td>2017-03-09 00:40:14</td>\n",
              "      <td>2017-03-09 00:38:02</td>\n",
              "      <td>1.0</td>\n",
              "      <td>NaN</td>\n",
              "      <td>1.0</td>\n",
              "      <td>NaN</td>\n",
              "      <td>NaN</td>\n",
              "      <td>NaN</td>\n",
              "      <td>NaN</td>\n",
              "      <td>NaN</td>\n",
              "      <td>NaN</td>\n",
              "      <td>Codenewbie</td>\n",
              "      <td>NaN</td>\n",
              "      <td>NaN</td>\n",
              "      <td>NaN</td>\n",
              "      <td>NaN</td>\n",
              "      <td>1.0</td>\n",
              "      <td>NaN</td>\n",
              "      <td>NaN</td>\n",
              "      <td>1.0</td>\n",
              "      <td>NaN</td>\n",
              "      <td>NaN</td>\n",
              "      <td>1.0</td>\n",
              "      <td>NaN</td>\n",
              "      <td>NaN</td>\n",
              "      <td>1.0</td>\n",
              "      <td>NaN</td>\n",
              "      <td>NaN</td>\n",
              "      <td>NaN</td>\n",
              "      <td>1.0</td>\n",
              "      <td>NaN</td>\n",
              "      <td>NaN</td>\n",
              "      <td>NaN</td>\n",
              "      <td>NaN</td>\n",
              "      <td>NaN</td>\n",
              "      <td>NaN</td>\n",
              "      <td>1.0</td>\n",
              "      <td>1.0</td>\n",
              "      <td>NaN</td>\n",
              "      <td>high school diploma or equivalent (GED)</td>\n",
              "      <td>NaN</td>\n",
              "      <td>NaN</td>\n",
              "      <td>NaN</td>\n",
              "      <td>NaN</td>\n",
              "      <td>1.0</td>\n",
              "      <td>NaN</td>\n",
              "      <td>1.0</td>\n",
              "      <td>1.0</td>\n",
              "      <td>NaN</td>\n",
              "      <td>NaN</td>\n",
              "      <td>NaN</td>\n",
              "      <td>NaN</td>\n",
              "      <td>1.0</td>\n",
              "      <td>1.0</td>\n",
              "      <td>NaN</td>\n",
              "      <td>NaN</td>\n",
              "      <td>NaN</td>\n",
              "      <td>NaN</td>\n",
              "      <td>NaN</td>\n",
              "    </tr>\n",
              "    <tr>\n",
              "      <th>3</th>\n",
              "      <td>26.0</td>\n",
              "      <td>0.0</td>\n",
              "      <td>NaN</td>\n",
              "      <td>NaN</td>\n",
              "      <td>NaN</td>\n",
              "      <td>NaN</td>\n",
              "      <td>NaN</td>\n",
              "      <td>between 100,000 and 1 million</td>\n",
              "      <td>NaN</td>\n",
              "      <td>NaN</td>\n",
              "      <td>NaN</td>\n",
              "      <td>NaN</td>\n",
              "      <td>NaN</td>\n",
              "      <td>NaN</td>\n",
              "      <td>NaN</td>\n",
              "      <td>NaN</td>\n",
              "      <td>NaN</td>\n",
              "      <td>NaN</td>\n",
              "      <td>NaN</td>\n",
              "      <td>NaN</td>\n",
              "      <td>NaN</td>\n",
              "      <td>NaN</td>\n",
              "      <td>NaN</td>\n",
              "      <td>NaN</td>\n",
              "      <td>I work from home</td>\n",
              "      <td>Brazil</td>\n",
              "      <td>Brazil</td>\n",
              "      <td>software development and IT</td>\n",
              "      <td>NaN</td>\n",
              "      <td>Employed for wages</td>\n",
              "      <td>NaN</td>\n",
              "      <td>40000.0</td>\n",
              "      <td>0.0</td>\n",
              "      <td>NaN</td>\n",
              "      <td>male</td>\n",
              "      <td>NaN</td>\n",
              "      <td>0.0</td>\n",
              "      <td>1.0</td>\n",
              "      <td>1.0</td>\n",
              "      <td>1.0</td>\n",
              "      <td>1.0</td>\n",
              "      <td>0.0</td>\n",
              "      <td>0.0</td>\n",
              "      <td>40000.0</td>\n",
              "      <td>14.0</td>\n",
              "      <td>91756eb4dc280062a541c25a3d44cfb0</td>\n",
              "      <td>3be37b558f02daae93a6da10f83f0c77</td>\n",
              "      <td>24000.0</td>\n",
              "      <td>0.0</td>\n",
              "      <td>0.0</td>\n",
              "      <td>0.0</td>\n",
              "      <td>1.0</td>\n",
              "      <td>Within the next 6 months</td>\n",
              "      <td>1.0</td>\n",
              "      <td>NaN</td>\n",
              "      <td>NaN</td>\n",
              "      <td>NaN</td>\n",
              "      <td>1.0</td>\n",
              "      <td>1.0</td>\n",
              "      <td>NaN</td>\n",
              "      <td>NaN</td>\n",
              "      <td>NaN</td>\n",
              "      <td>NaN</td>\n",
              "      <td>NaN</td>\n",
              "      <td>NaN</td>\n",
              "      <td>NaN</td>\n",
              "      <td>work for a medium-sized company</td>\n",
              "      <td>NaN</td>\n",
              "      <td>Front-End Web Developer, Full-Stack Web Deve...</td>\n",
              "      <td>from home</td>\n",
              "      <td>Portuguese</td>\n",
              "      <td>married or domestic partnership</td>\n",
              "      <td>0.0</td>\n",
              "      <td>5.0</td>\n",
              "      <td>dbdc0664d1</td>\n",
              "      <td>2017-03-09 00:40:13</td>\n",
              "      <td>2017-03-09 00:37:45</td>\n",
              "      <td>2017-03-09 00:42:26</td>\n",
              "      <td>2017-03-09 00:40:18</td>\n",
              "      <td>NaN</td>\n",
              "      <td>NaN</td>\n",
              "      <td>NaN</td>\n",
              "      <td>NaN</td>\n",
              "      <td>NaN</td>\n",
              "      <td>NaN</td>\n",
              "      <td>NaN</td>\n",
              "      <td>NaN</td>\n",
              "      <td>NaN</td>\n",
              "      <td>NaN</td>\n",
              "      <td>NaN</td>\n",
              "      <td>NaN</td>\n",
              "      <td>NaN</td>\n",
              "      <td>NaN</td>\n",
              "      <td>NaN</td>\n",
              "      <td>NaN</td>\n",
              "      <td>NaN</td>\n",
              "      <td>NaN</td>\n",
              "      <td>NaN</td>\n",
              "      <td>NaN</td>\n",
              "      <td>NaN</td>\n",
              "      <td>NaN</td>\n",
              "      <td>1.0</td>\n",
              "      <td>1.0</td>\n",
              "      <td>NaN</td>\n",
              "      <td>NaN</td>\n",
              "      <td>NaN</td>\n",
              "      <td>1.0</td>\n",
              "      <td>NaN</td>\n",
              "      <td>NaN</td>\n",
              "      <td>NaN</td>\n",
              "      <td>NaN</td>\n",
              "      <td>1.0</td>\n",
              "      <td>NaN</td>\n",
              "      <td>NaN</td>\n",
              "      <td>NaN</td>\n",
              "      <td>NaN</td>\n",
              "      <td>some college credit, no degree</td>\n",
              "      <td>NaN</td>\n",
              "      <td>NaN</td>\n",
              "      <td>NaN</td>\n",
              "      <td>NaN</td>\n",
              "      <td>NaN</td>\n",
              "      <td>NaN</td>\n",
              "      <td>NaN</td>\n",
              "      <td>1.0</td>\n",
              "      <td>NaN</td>\n",
              "      <td>1.0</td>\n",
              "      <td>1.0</td>\n",
              "      <td>NaN</td>\n",
              "      <td>NaN</td>\n",
              "      <td>1.0</td>\n",
              "      <td>NaN</td>\n",
              "      <td>NaN</td>\n",
              "      <td>NaN</td>\n",
              "      <td>NaN</td>\n",
              "      <td>NaN</td>\n",
              "    </tr>\n",
              "    <tr>\n",
              "      <th>4</th>\n",
              "      <td>20.0</td>\n",
              "      <td>0.0</td>\n",
              "      <td>NaN</td>\n",
              "      <td>NaN</td>\n",
              "      <td>NaN</td>\n",
              "      <td>NaN</td>\n",
              "      <td>NaN</td>\n",
              "      <td>between 100,000 and 1 million</td>\n",
              "      <td>NaN</td>\n",
              "      <td>NaN</td>\n",
              "      <td>NaN</td>\n",
              "      <td>NaN</td>\n",
              "      <td>NaN</td>\n",
              "      <td>NaN</td>\n",
              "      <td>NaN</td>\n",
              "      <td>NaN</td>\n",
              "      <td>NaN</td>\n",
              "      <td>NaN</td>\n",
              "      <td>NaN</td>\n",
              "      <td>NaN</td>\n",
              "      <td>NaN</td>\n",
              "      <td>NaN</td>\n",
              "      <td>NaN</td>\n",
              "      <td>NaN</td>\n",
              "      <td>NaN</td>\n",
              "      <td>Portugal</td>\n",
              "      <td>Portugal</td>\n",
              "      <td>NaN</td>\n",
              "      <td>NaN</td>\n",
              "      <td>Not working but looking for work</td>\n",
              "      <td>NaN</td>\n",
              "      <td>140000.0</td>\n",
              "      <td>NaN</td>\n",
              "      <td>NaN</td>\n",
              "      <td>female</td>\n",
              "      <td>NaN</td>\n",
              "      <td>NaN</td>\n",
              "      <td>0.0</td>\n",
              "      <td>0.0</td>\n",
              "      <td>1.0</td>\n",
              "      <td>NaN</td>\n",
              "      <td>0.0</td>\n",
              "      <td>NaN</td>\n",
              "      <td>NaN</td>\n",
              "      <td>10.0</td>\n",
              "      <td>aa3f061a1949a90b27bef7411ecd193f</td>\n",
              "      <td>d7c56bbf2c7b62096be9db010e86d96d</td>\n",
              "      <td>NaN</td>\n",
              "      <td>0.0</td>\n",
              "      <td>0.0</td>\n",
              "      <td>0.0</td>\n",
              "      <td>NaN</td>\n",
              "      <td>Within 7 to 12 months</td>\n",
              "      <td>1.0</td>\n",
              "      <td>NaN</td>\n",
              "      <td>NaN</td>\n",
              "      <td>NaN</td>\n",
              "      <td>1.0</td>\n",
              "      <td>1.0</td>\n",
              "      <td>NaN</td>\n",
              "      <td>1.0</td>\n",
              "      <td>1.0</td>\n",
              "      <td>NaN</td>\n",
              "      <td>NaN</td>\n",
              "      <td>NaN</td>\n",
              "      <td>NaN</td>\n",
              "      <td>work for a multinational corporation</td>\n",
              "      <td>1.0</td>\n",
              "      <td>Full-Stack Web Developer, Information Security...</td>\n",
              "      <td>in an office with other developers</td>\n",
              "      <td>Portuguese</td>\n",
              "      <td>single, never married</td>\n",
              "      <td>0.0</td>\n",
              "      <td>24.0</td>\n",
              "      <td>11b0f2d8a9</td>\n",
              "      <td>2017-03-09 00:42:45</td>\n",
              "      <td>2017-03-09 00:39:44</td>\n",
              "      <td>2017-03-09 00:45:42</td>\n",
              "      <td>2017-03-09 00:42:50</td>\n",
              "      <td>NaN</td>\n",
              "      <td>NaN</td>\n",
              "      <td>NaN</td>\n",
              "      <td>NaN</td>\n",
              "      <td>NaN</td>\n",
              "      <td>NaN</td>\n",
              "      <td>NaN</td>\n",
              "      <td>NaN</td>\n",
              "      <td>NaN</td>\n",
              "      <td>NaN</td>\n",
              "      <td>NaN</td>\n",
              "      <td>NaN</td>\n",
              "      <td>NaN</td>\n",
              "      <td>NaN</td>\n",
              "      <td>NaN</td>\n",
              "      <td>NaN</td>\n",
              "      <td>NaN</td>\n",
              "      <td>NaN</td>\n",
              "      <td>NaN</td>\n",
              "      <td>NaN</td>\n",
              "      <td>NaN</td>\n",
              "      <td>NaN</td>\n",
              "      <td>NaN</td>\n",
              "      <td>NaN</td>\n",
              "      <td>NaN</td>\n",
              "      <td>NaN</td>\n",
              "      <td>NaN</td>\n",
              "      <td>NaN</td>\n",
              "      <td>NaN</td>\n",
              "      <td>NaN</td>\n",
              "      <td>NaN</td>\n",
              "      <td>NaN</td>\n",
              "      <td>1.0</td>\n",
              "      <td>NaN</td>\n",
              "      <td>NaN</td>\n",
              "      <td>NaN</td>\n",
              "      <td>NaN</td>\n",
              "      <td>bachelor's degree</td>\n",
              "      <td>Information Technology</td>\n",
              "      <td>NaN</td>\n",
              "      <td>NaN</td>\n",
              "      <td>NaN</td>\n",
              "      <td>NaN</td>\n",
              "      <td>NaN</td>\n",
              "      <td>NaN</td>\n",
              "      <td>NaN</td>\n",
              "      <td>NaN</td>\n",
              "      <td>NaN</td>\n",
              "      <td>NaN</td>\n",
              "      <td>NaN</td>\n",
              "      <td>NaN</td>\n",
              "      <td>NaN</td>\n",
              "      <td>NaN</td>\n",
              "      <td>NaN</td>\n",
              "      <td>NaN</td>\n",
              "      <td>NaN</td>\n",
              "      <td>NaN</td>\n",
              "    </tr>\n",
              "  </tbody>\n",
              "</table>\n",
              "</div>"
            ],
            "text/plain": [
              "    Age  AttendedBootcamp  BootcampFinish  BootcampLoanYesNo BootcampName  \\\n",
              "0  27.0               0.0             NaN                NaN          NaN   \n",
              "1  34.0               0.0             NaN                NaN          NaN   \n",
              "2  21.0               0.0             NaN                NaN          NaN   \n",
              "3  26.0               0.0             NaN                NaN          NaN   \n",
              "4  20.0               0.0             NaN                NaN          NaN   \n",
              "\n",
              "   BootcampRecommend  ChildrenNumber                 CityPopulation  \\\n",
              "0                NaN             NaN            more than 1 million   \n",
              "1                NaN             NaN              less than 100,000   \n",
              "2                NaN             NaN            more than 1 million   \n",
              "3                NaN             NaN  between 100,000 and 1 million   \n",
              "4                NaN             NaN  between 100,000 and 1 million   \n",
              "\n",
              "   CodeEventConferences  CodeEventDjangoGirls  CodeEventFCC  CodeEventGameJam  \\\n",
              "0                   NaN                   NaN           NaN               NaN   \n",
              "1                   NaN                   NaN           NaN               NaN   \n",
              "2                   NaN                   NaN           NaN               NaN   \n",
              "3                   NaN                   NaN           NaN               NaN   \n",
              "4                   NaN                   NaN           NaN               NaN   \n",
              "\n",
              "   CodeEventGirlDev  CodeEventHackathons  CodeEventMeetup  \\\n",
              "0               NaN                  NaN              NaN   \n",
              "1               NaN                  NaN              NaN   \n",
              "2               NaN                  1.0              NaN   \n",
              "3               NaN                  NaN              NaN   \n",
              "4               NaN                  NaN              NaN   \n",
              "\n",
              "   CodeEventNodeSchool  CodeEventNone  CodeEventOther  CodeEventRailsBridge  \\\n",
              "0                  NaN            NaN             NaN                   NaN   \n",
              "1                  NaN            NaN             NaN                   NaN   \n",
              "2                  1.0            NaN             NaN                   NaN   \n",
              "3                  NaN            NaN             NaN                   NaN   \n",
              "4                  NaN            NaN             NaN                   NaN   \n",
              "\n",
              "   CodeEventRailsGirls  CodeEventStartUpWknd  CodeEventWkdBootcamps  \\\n",
              "0                  NaN                   NaN                    NaN   \n",
              "1                  NaN                   NaN                    NaN   \n",
              "2                  NaN                   NaN                    NaN   \n",
              "3                  NaN                   NaN                    NaN   \n",
              "4                  NaN                   NaN                    NaN   \n",
              "\n",
              "   CodeEventWomenCode  CodeEventWorkshops       CommuteTime  \\\n",
              "0                 NaN                 NaN  15 to 29 minutes   \n",
              "1                 NaN                 NaN               NaN   \n",
              "2                 NaN                 NaN  15 to 29 minutes   \n",
              "3                 NaN                 NaN  I work from home   \n",
              "4                 NaN                 NaN               NaN   \n",
              "\n",
              "             CountryCitizen               CountryLive  \\\n",
              "0                    Canada                    Canada   \n",
              "1  United States of America  United States of America   \n",
              "2  United States of America  United States of America   \n",
              "3                    Brazil                    Brazil   \n",
              "4                  Portugal                  Portugal   \n",
              "\n",
              "               EmploymentField EmploymentFieldOther  \\\n",
              "0  software development and IT                  NaN   \n",
              "1                          NaN                  NaN   \n",
              "2  software development and IT                  NaN   \n",
              "3  software development and IT                  NaN   \n",
              "4                          NaN                  NaN   \n",
              "\n",
              "                   EmploymentStatus EmploymentStatusOther  ExpectedEarning  \\\n",
              "0                Employed for wages                   NaN              NaN   \n",
              "1  Not working but looking for work                   NaN          35000.0   \n",
              "2                Employed for wages                   NaN          70000.0   \n",
              "3                Employed for wages                   NaN          40000.0   \n",
              "4  Not working but looking for work                   NaN         140000.0   \n",
              "\n",
              "   FinanciallySupporting  FirstDevJob  Gender GenderOther  HasChildren  \\\n",
              "0                    NaN          NaN  female         NaN          NaN   \n",
              "1                    NaN          NaN    male         NaN          NaN   \n",
              "2                    NaN          NaN    male         NaN          NaN   \n",
              "3                    0.0          NaN    male         NaN          0.0   \n",
              "4                    NaN          NaN  female         NaN          NaN   \n",
              "\n",
              "   HasDebt  HasFinancialDependents  HasHighSpdInternet  HasHomeMortgage  \\\n",
              "0      1.0                     0.0                 1.0              0.0   \n",
              "1      1.0                     0.0                 1.0              0.0   \n",
              "2      0.0                     0.0                 1.0              NaN   \n",
              "3      1.0                     1.0                 1.0              1.0   \n",
              "4      0.0                     0.0                 1.0              NaN   \n",
              "\n",
              "   HasServedInMilitary  HasStudentDebt  HomeMortgageOwe  HoursLearning  \\\n",
              "0                  0.0             0.0              NaN           15.0   \n",
              "1                  0.0             1.0              NaN           10.0   \n",
              "2                  0.0             NaN              NaN           25.0   \n",
              "3                  0.0             0.0          40000.0           14.0   \n",
              "4                  0.0             NaN              NaN           10.0   \n",
              "\n",
              "                               ID.x                              ID.y  \\\n",
              "0  02d9465b21e8bd09374b0066fb2d5614  eb78c1c3ac6cd9052aec557065070fbf   \n",
              "1  5bfef9ecb211ec4f518cfc1d2a6f3e0c  21db37adb60cdcafadfa7dca1b13b6b1   \n",
              "2  14f1863afa9c7de488050b82eb3edd96  21ba173828fbe9e27ccebaf4d5166a55   \n",
              "3  91756eb4dc280062a541c25a3d44cfb0  3be37b558f02daae93a6da10f83f0c77   \n",
              "4  aa3f061a1949a90b27bef7411ecd193f  d7c56bbf2c7b62096be9db010e86d96d   \n",
              "\n",
              "    Income  IsEthnicMinority  IsReceiveDisabilitiesBenefits  IsSoftwareDev  \\\n",
              "0      NaN               NaN                            0.0            0.0   \n",
              "1      NaN               0.0                            0.0            0.0   \n",
              "2  13000.0               1.0                            0.0            0.0   \n",
              "3  24000.0               0.0                            0.0            0.0   \n",
              "4      NaN               0.0                            0.0            0.0   \n",
              "\n",
              "   IsUnderEmployed              JobApplyWhen  JobInterestBackEnd  \\\n",
              "0              0.0                       NaN                 NaN   \n",
              "1              NaN     Within 7 to 12 months                 NaN   \n",
              "2              0.0     Within 7 to 12 months                 1.0   \n",
              "3              1.0  Within the next 6 months                 1.0   \n",
              "4              NaN     Within 7 to 12 months                 1.0   \n",
              "\n",
              "   JobInterestDataEngr  JobInterestDataSci  JobInterestDevOps  \\\n",
              "0                  NaN                 NaN                NaN   \n",
              "1                  NaN                 NaN                NaN   \n",
              "2                  NaN                 NaN                1.0   \n",
              "3                  NaN                 NaN                NaN   \n",
              "4                  NaN                 NaN                NaN   \n",
              "\n",
              "   JobInterestFrontEnd  JobInterestFullStack  JobInterestGameDev  \\\n",
              "0                  NaN                   NaN                 NaN   \n",
              "1                  NaN                   1.0                 NaN   \n",
              "2                  1.0                   1.0                 NaN   \n",
              "3                  1.0                   1.0                 NaN   \n",
              "4                  1.0                   1.0                 NaN   \n",
              "\n",
              "   JobInterestInfoSec  JobInterestMobile  JobInterestOther  \\\n",
              "0                 NaN                NaN               NaN   \n",
              "1                 NaN                NaN               NaN   \n",
              "2                 NaN                1.0               NaN   \n",
              "3                 NaN                NaN               NaN   \n",
              "4                 1.0                1.0               NaN   \n",
              "\n",
              "   JobInterestProjMngr  JobInterestQAEngr  JobInterestUX  \\\n",
              "0                  NaN                NaN            NaN   \n",
              "1                  NaN                NaN            NaN   \n",
              "2                  NaN                NaN            NaN   \n",
              "3                  NaN                NaN            NaN   \n",
              "4                  NaN                NaN            NaN   \n",
              "\n",
              "                                JobPref  JobRelocateYesNo  \\\n",
              "0               start your own business               NaN   \n",
              "1                  work for a nonprofit               1.0   \n",
              "2       work for a medium-sized company               1.0   \n",
              "3       work for a medium-sized company               NaN   \n",
              "4  work for a multinational corporation               1.0   \n",
              "\n",
              "                                     JobRoleInterest  \\\n",
              "0                                                NaN   \n",
              "1                           Full-Stack Web Developer   \n",
              "2    Front-End Web Developer, Back-End Web Develo...   \n",
              "3    Front-End Web Developer, Full-Stack Web Deve...   \n",
              "4  Full-Stack Web Developer, Information Security...   \n",
              "\n",
              "                         JobWherePref LanguageAtHome  \\\n",
              "0                                 NaN        English   \n",
              "1  in an office with other developers        English   \n",
              "2                       no preference        Spanish   \n",
              "3                           from home     Portuguese   \n",
              "4  in an office with other developers     Portuguese   \n",
              "\n",
              "                     MaritalStatus  MoneyForLearning  MonthsProgramming  \\\n",
              "0  married or domestic partnership             150.0                6.0   \n",
              "1            single, never married              80.0                6.0   \n",
              "2            single, never married            1000.0                5.0   \n",
              "3  married or domestic partnership               0.0                5.0   \n",
              "4            single, never married               0.0               24.0   \n",
              "\n",
              "    NetworkID         Part1EndTime       Part1StartTime         Part2EndTime  \\\n",
              "0  6f1fbc6b2b  2017-03-09 00:36:22  2017-03-09 00:32:59  2017-03-09 00:59:46   \n",
              "1  f8f8be6910  2017-03-09 00:37:07  2017-03-09 00:33:26  2017-03-09 00:38:59   \n",
              "2  2ed189768e  2017-03-09 00:37:58  2017-03-09 00:33:53  2017-03-09 00:40:14   \n",
              "3  dbdc0664d1  2017-03-09 00:40:13  2017-03-09 00:37:45  2017-03-09 00:42:26   \n",
              "4  11b0f2d8a9  2017-03-09 00:42:45  2017-03-09 00:39:44  2017-03-09 00:45:42   \n",
              "\n",
              "        Part2StartTime  PodcastChangeLog  PodcastCodeNewbie  PodcastCodePen  \\\n",
              "0  2017-03-09 00:36:26               NaN                NaN             NaN   \n",
              "1  2017-03-09 00:37:10               NaN                1.0             NaN   \n",
              "2  2017-03-09 00:38:02               1.0                NaN             1.0   \n",
              "3  2017-03-09 00:40:18               NaN                NaN             NaN   \n",
              "4  2017-03-09 00:42:50               NaN                NaN             NaN   \n",
              "\n",
              "   PodcastDevTea  PodcastDotNET  PodcastGiantRobots  PodcastJSAir  \\\n",
              "0            1.0            NaN                 NaN           NaN   \n",
              "1            NaN            NaN                 NaN           NaN   \n",
              "2            NaN            NaN                 NaN           NaN   \n",
              "3            NaN            NaN                 NaN           NaN   \n",
              "4            NaN            NaN                 NaN           NaN   \n",
              "\n",
              "   PodcastJSJabber  PodcastNone PodcastOther  PodcastProgThrowdown  \\\n",
              "0              NaN          NaN          NaN                   NaN   \n",
              "1              NaN          NaN          NaN                   NaN   \n",
              "2              NaN          NaN   Codenewbie                   NaN   \n",
              "3              NaN          NaN          NaN                   NaN   \n",
              "4              NaN          NaN          NaN                   NaN   \n",
              "\n",
              "   PodcastRubyRogues  PodcastSEDaily  PodcastSERadio  PodcastShopTalk  \\\n",
              "0                NaN             NaN             NaN              NaN   \n",
              "1                NaN             NaN             NaN              NaN   \n",
              "2                NaN             NaN             NaN              1.0   \n",
              "3                NaN             NaN             NaN              NaN   \n",
              "4                NaN             NaN             NaN              NaN   \n",
              "\n",
              "   PodcastTalkPython  PodcastTheWebAhead  ResourceCodecademy  \\\n",
              "0                NaN                 NaN                 1.0   \n",
              "1                NaN                 NaN                 1.0   \n",
              "2                NaN                 NaN                 1.0   \n",
              "3                NaN                 NaN                 NaN   \n",
              "4                NaN                 NaN                 NaN   \n",
              "\n",
              "   ResourceCodeWars  ResourceCoursera  ResourceCSS  ResourceEdX  \\\n",
              "0               NaN               NaN          NaN          NaN   \n",
              "1               NaN               NaN          1.0          NaN   \n",
              "2               NaN               NaN          1.0          NaN   \n",
              "3               NaN               NaN          NaN          NaN   \n",
              "4               NaN               NaN          NaN          NaN   \n",
              "\n",
              "   ResourceEgghead  ResourceFCC  ResourceHackerRank  ResourceKA  \\\n",
              "0              NaN          1.0                 NaN         NaN   \n",
              "1              NaN          1.0                 NaN         NaN   \n",
              "2              NaN          1.0                 NaN         NaN   \n",
              "3              1.0          1.0                 NaN         NaN   \n",
              "4              NaN          NaN                 NaN         NaN   \n",
              "\n",
              "   ResourceLynda  ResourceMDN  ResourceOdinProj ResourceOther  \\\n",
              "0            NaN          1.0               NaN           NaN   \n",
              "1            NaN          NaN               NaN           NaN   \n",
              "2            NaN          1.0               NaN           NaN   \n",
              "3            NaN          1.0               NaN           NaN   \n",
              "4            NaN          NaN               NaN           NaN   \n",
              "\n",
              "   ResourcePluralSight  ResourceSkillcrush  ResourceSO  ResourceTreehouse  \\\n",
              "0                  NaN                 NaN         NaN                NaN   \n",
              "1                  NaN                 NaN         1.0                NaN   \n",
              "2                  NaN                 NaN         NaN                NaN   \n",
              "3                  NaN                 NaN         1.0                NaN   \n",
              "4                  NaN                 NaN         1.0                NaN   \n",
              "\n",
              "   ResourceUdacity  ResourceUdemy  ResourceW3S  \\\n",
              "0              NaN            1.0          1.0   \n",
              "1              NaN            1.0          1.0   \n",
              "2              1.0            1.0          NaN   \n",
              "3              NaN            NaN          NaN   \n",
              "4              NaN            NaN          NaN   \n",
              "\n",
              "                              SchoolDegree             SchoolMajor  \\\n",
              "0           some college credit, no degree                     NaN   \n",
              "1           some college credit, no degree                     NaN   \n",
              "2  high school diploma or equivalent (GED)                     NaN   \n",
              "3           some college credit, no degree                     NaN   \n",
              "4                        bachelor's degree  Information Technology   \n",
              "\n",
              "   StudentDebtOwe  YouTubeCodeCourse  YouTubeCodingTrain  YouTubeCodingTut360  \\\n",
              "0             NaN                NaN                 NaN                  NaN   \n",
              "1             NaN                NaN                 NaN                  NaN   \n",
              "2             NaN                NaN                 NaN                  1.0   \n",
              "3             NaN                NaN                 NaN                  NaN   \n",
              "4             NaN                NaN                 NaN                  NaN   \n",
              "\n",
              "   YouTubeComputerphile  YouTubeDerekBanas  YouTubeDevTips  \\\n",
              "0                   NaN                NaN             NaN   \n",
              "1                   NaN                NaN             NaN   \n",
              "2                   NaN                1.0             1.0   \n",
              "3                   NaN                NaN             1.0   \n",
              "4                   NaN                NaN             NaN   \n",
              "\n",
              "   YouTubeEngineeredTruth  YouTubeFCC  YouTubeFunFunFunction  \\\n",
              "0                     NaN         NaN                    NaN   \n",
              "1                     NaN         1.0                    NaN   \n",
              "2                     NaN         NaN                    NaN   \n",
              "3                     NaN         1.0                    1.0   \n",
              "4                     NaN         NaN                    NaN   \n",
              "\n",
              "   YouTubeGoogleDev  YouTubeLearnCode  YouTubeLevelUpTuts  YouTubeMIT  \\\n",
              "0               NaN               NaN                 NaN         NaN   \n",
              "1               NaN               NaN                 NaN         NaN   \n",
              "2               NaN               1.0                 1.0         NaN   \n",
              "3               NaN               NaN                 1.0         NaN   \n",
              "4               NaN               NaN                 NaN         NaN   \n",
              "\n",
              "   YouTubeMozillaHacks YouTubeOther  YouTubeSimplilearn  YouTubeTheNewBoston  \n",
              "0                  NaN          NaN                 NaN                  NaN  \n",
              "1                  NaN          NaN                 NaN                  NaN  \n",
              "2                  NaN          NaN                 NaN                  NaN  \n",
              "3                  NaN          NaN                 NaN                  NaN  \n",
              "4                  NaN          NaN                 NaN                  NaN  "
            ]
          },
          "metadata": {
            "tags": []
          },
          "execution_count": 5
        }
      ]
    },
    {
      "cell_type": "markdown",
      "metadata": {
        "id": "-bGRvcPnX3PY",
        "colab_type": "text"
      },
      "source": [
        "#### Role participants interested in working in"
      ]
    },
    {
      "cell_type": "code",
      "metadata": {
        "id": "MGTzF_LKX3PZ",
        "colab_type": "code",
        "outputId": "05cc7c71-ae64-4ba2-cda1-5c51b77cc748",
        "colab": {
          "base_uri": "https://localhost:8080/",
          "height": 119
        }
      },
      "source": [
        "job_interest_percentage = (fcc[\"JobRoleInterest\"].value_counts(normalize=True)*100)\n",
        "job_interest_percentage.head()"
      ],
      "execution_count": 0,
      "outputs": [
        {
          "output_type": "execute_result",
          "data": {
            "text/plain": [
              "Full-Stack Web Developer     11.697861\n",
              "  Front-End Web Developer     5.381016\n",
              "  Data Scientist              2.339572\n",
              "  Mobile Developer            2.005348\n",
              "Back-End Web Developer        1.704545\n",
              "Name: JobRoleInterest, dtype: float64"
            ]
          },
          "metadata": {
            "tags": []
          },
          "execution_count": 6
        }
      ]
    },
    {
      "cell_type": "code",
      "metadata": {
        "id": "tpoPTkA1X3Pc",
        "colab_type": "code",
        "outputId": "68564f8b-c1ec-450d-c646-887607bcb5fd",
        "colab": {
          "base_uri": "https://localhost:8080/",
          "height": 685
        }
      },
      "source": [
        "import matplotlib.pyplot as plt\n",
        "%matplotlib inline\n",
        "plt.style.use('fivethirtyeight')\n",
        "\n",
        "job_interest_percentage[:10].plot.bar()\n",
        "plt.title('Roles People Interested in (%)')"
      ],
      "execution_count": 0,
      "outputs": [
        {
          "output_type": "execute_result",
          "data": {
            "text/plain": [
              "Text(0.5, 1.0, 'Roles People Interested in (%)')"
            ]
          },
          "metadata": {
            "tags": []
          },
          "execution_count": 7
        },
        {
          "output_type": "display_data",
          "data": {
            "image/png": "[encoded data removed]",
            "text/plain": [
              "<Figure size 432x288 with 1 Axes>"
            ]
          },
          "metadata": {
            "tags": []
          }
        }
      ]
    },
    {
      "cell_type": "markdown",
      "metadata": {
        "id": "ejwFOkx0X3Pg",
        "colab_type": "text"
      },
      "source": [
        "#### Participants interested in more than one subject"
      ]
    },
    {
      "cell_type": "code",
      "metadata": {
        "id": "IaD7a3zSX3Ph",
        "colab_type": "code",
        "outputId": "5c28cdd4-3a22-4a20-d357-1331345666f0",
        "colab": {
          "base_uri": "https://localhost:8080/",
          "height": 238
        }
      },
      "source": [
        "# Split each string in the 'JobRoleInterest' column\n",
        "n_of_options_nonull = fcc[\"JobRoleInterest\"].dropna()\n",
        "n_of_options_split = n_of_options_nonull.apply(lambda x: x.split(','))\n",
        "# Frequency table for the var describing the number of options\n",
        "n_of_options = n_of_options_split.apply(lambda x: len(x))\n",
        "job_options = n_of_options.value_counts(normalize=True)*100\n",
        "print(job_options)"
      ],
      "execution_count": 0,
      "outputs": [
        {
          "output_type": "stream",
          "text": [
            "1     28.943850\n",
            "3     16.477273\n",
            "4     15.641711\n",
            "5     13.268717\n",
            "2     11.330214\n",
            "6      7.085561\n",
            "7      3.910428\n",
            "8      1.403743\n",
            "9      0.902406\n",
            "10     0.501337\n",
            "12     0.300802\n",
            "11     0.233957\n",
            "Name: JobRoleInterest, dtype: float64\n"
          ],
          "name": "stdout"
        }
      ]
    },
    {
      "cell_type": "markdown",
      "metadata": {
        "id": "EINJLZBFX3Pl",
        "colab_type": "text"
      },
      "source": [
        "#### Interest in our focus (web and mobile developer)"
      ]
    },
    {
      "cell_type": "code",
      "metadata": {
        "id": "LTjNfZL2X3Pm",
        "colab_type": "code",
        "outputId": "696e04c4-df97-4093-f0f5-8375735a3450",
        "colab": {
          "base_uri": "https://localhost:8080/",
          "height": 119
        }
      },
      "source": [
        "web_or_mobile = fcc[\"JobRoleInterest\"].str.contains(\n",
        "    'Web Developer|Mobile Developer') # returns an array of booleans\n",
        "freq_table = web_or_mobile.value_counts()\n",
        "print(freq_table)\n",
        "freq_table_normal = web_or_mobile.value_counts(normalize = True) * 100\n",
        "print(freq_table_normal)"
      ],
      "execution_count": 0,
      "outputs": [
        {
          "output_type": "stream",
          "text": [
            "True     2630\n",
            "False     362\n",
            "Name: JobRoleInterest, dtype: int64\n",
            "True     87.90107\n",
            "False    12.09893\n",
            "Name: JobRoleInterest, dtype: float64\n"
          ],
          "name": "stdout"
        }
      ]
    },
    {
      "cell_type": "markdown",
      "metadata": {
        "id": "DXwafgDfX3Pp",
        "colab_type": "text"
      },
      "source": [
        "6030 participants are interested in the courses we are focoused on (web and mobile development)"
      ]
    },
    {
      "cell_type": "code",
      "metadata": {
        "id": "6J3DsmOqX3Pq",
        "colab_type": "code",
        "outputId": "657ad044-c9f4-41df-970c-e1b3e19f70fd",
        "colab": {
          "base_uri": "https://localhost:8080/",
          "height": 319
        }
      },
      "source": [
        "plt.style.use('fivethirtyeight')\n",
        "\n",
        "freq_table_normal.plot.bar(rot=0)\n",
        "plt.title('Participants Interest')\n",
        "plt.ylabel('Percentage', fontsize = 12)\n",
        "plt.xticks([0,1],['Web or mobile\\ndevelopment', 'Other subject'],\n",
        "           rotation = 0)\n",
        "\n",
        "plt.show()"
      ],
      "execution_count": 0,
      "outputs": [
        {
          "output_type": "display_data",
          "data": {
            "image/png": "[encoded data removed]",
            "text/plain": [
              "<Figure size 432x288 with 1 Axes>"
            ]
          },
          "metadata": {
            "tags": []
          }
        }
      ]
    },
    {
      "cell_type": "markdown",
      "metadata": {
        "id": "M7OQXQwZX3Pu",
        "colab_type": "text"
      },
      "source": [
        "### Finding where the coders live"
      ]
    },
    {
      "cell_type": "code",
      "metadata": {
        "id": "wmiW4HOeX3Pv",
        "colab_type": "code",
        "outputId": "4e316905-8c39-4965-ff54-8e01511e0021",
        "colab": {
          "base_uri": "https://localhost:8080/",
          "height": 359
        }
      },
      "source": [
        "fcc_good = fcc.dropna(subset=[\"JobRoleInterest\"]).copy()\n",
        "# fcc_good = fcc[fcc['JobRoleInterest'].notnull()]\n",
        "\n",
        "# Relative frequencies\n",
        "relative_freq = fcc_good['CountryLive'].value_counts(normalize=True).head(10)*100\n",
        "# Absolute frequencies\n",
        "absolute_freq = fcc_good['CountryLive'].value_counts().head(10)\n",
        "\n",
        "pd.DataFrame({\"Relative Frequencies\": relative_freq\n",
        "             , \"Absolute Frequencies\": absolute_freq})"
      ],
      "execution_count": 0,
      "outputs": [
        {
          "output_type": "execute_result",
          "data": {
            "text/html": [
              "<div>\n",
              "<style scoped>\n",
              "    .dataframe tbody tr th:only-of-type {\n",
              "        vertical-align: middle;\n",
              "    }\n",
              "\n",
              "    .dataframe tbody tr th {\n",
              "        vertical-align: top;\n",
              "    }\n",
              "\n",
              "    .dataframe thead th {\n",
              "        text-align: right;\n",
              "    }\n",
              "</style>\n",
              "<table border=\"1\" class=\"dataframe\">\n",
              "  <thead>\n",
              "    <tr style=\"text-align: right;\">\n",
              "      <th></th>\n",
              "      <th>Relative Frequencies</th>\n",
              "      <th>Absolute Frequencies</th>\n",
              "    </tr>\n",
              "  </thead>\n",
              "  <tbody>\n",
              "    <tr>\n",
              "      <th>United States of America</th>\n",
              "      <td>47.803706</td>\n",
              "      <td>1393</td>\n",
              "    </tr>\n",
              "    <tr>\n",
              "      <th>India</th>\n",
              "      <td>8.579272</td>\n",
              "      <td>250</td>\n",
              "    </tr>\n",
              "    <tr>\n",
              "      <th>United Kingdom</th>\n",
              "      <td>5.456417</td>\n",
              "      <td>159</td>\n",
              "    </tr>\n",
              "    <tr>\n",
              "      <th>Canada</th>\n",
              "      <td>4.015100</td>\n",
              "      <td>117</td>\n",
              "    </tr>\n",
              "    <tr>\n",
              "      <th>Germany</th>\n",
              "      <td>2.161977</td>\n",
              "      <td>63</td>\n",
              "    </tr>\n",
              "    <tr>\n",
              "      <th>Poland</th>\n",
              "      <td>1.853123</td>\n",
              "      <td>54</td>\n",
              "    </tr>\n",
              "    <tr>\n",
              "      <th>Brazil</th>\n",
              "      <td>1.750172</td>\n",
              "      <td>51</td>\n",
              "    </tr>\n",
              "    <tr>\n",
              "      <th>Australia</th>\n",
              "      <td>1.612903</td>\n",
              "      <td>47</td>\n",
              "    </tr>\n",
              "    <tr>\n",
              "      <th>Russia</th>\n",
              "      <td>1.166781</td>\n",
              "      <td>34</td>\n",
              "    </tr>\n",
              "    <tr>\n",
              "      <th>France</th>\n",
              "      <td>1.098147</td>\n",
              "      <td>32</td>\n",
              "    </tr>\n",
              "  </tbody>\n",
              "</table>\n",
              "</div>"
            ],
            "text/plain": [
              "                          Relative Frequencies  Absolute Frequencies\n",
              "United States of America             47.803706                  1393\n",
              "India                                 8.579272                   250\n",
              "United Kingdom                        5.456417                   159\n",
              "Canada                                4.015100                   117\n",
              "Germany                               2.161977                    63\n",
              "Poland                                1.853123                    54\n",
              "Brazil                                1.750172                    51\n",
              "Australia                             1.612903                    47\n",
              "Russia                                1.166781                    34\n",
              "France                                1.098147                    32"
            ]
          },
          "metadata": {
            "tags": []
          },
          "execution_count": 11
        }
      ]
    },
    {
      "cell_type": "markdown",
      "metadata": {
        "id": "BL9u0gPPX3Py",
        "colab_type": "text"
      },
      "source": [
        "Most participants live in the US, India, the UK and Canada\n"
      ]
    },
    {
      "cell_type": "markdown",
      "metadata": {
        "collapsed": true,
        "id": "br5DvtnuX3Pz",
        "colab_type": "text"
      },
      "source": [
        "### Analysing the Money Available for Learning"
      ]
    },
    {
      "cell_type": "code",
      "metadata": {
        "id": "VQoZXlzCX3P0",
        "colab_type": "code",
        "outputId": "4d7f68c6-0c9d-4720-9568-6e52aa83af12",
        "colab": {
          "base_uri": "https://localhost:8080/",
          "height": 34
        }
      },
      "source": [
        "# Replace 0 with 1, show the number of null values\n",
        "fcc_good[\"MonthsProgramming\"].replace(0, 1, inplace=True)\n",
        "# The amount of money a student has spent per month \n",
        "fcc_good[\"MoneyPerMonth\"] = fcc_good[\"MoneyForLearning\"] / fcc_good[\"MonthsProgramming\"]\n",
        "print(fcc_good[\"MoneyPerMonth\"].isnull().sum())\n",
        "# Remove rows with null values for the new and CountryLive columns\n",
        "fcc_good.dropna(subset=[\"MoneyPerMonth\", \"CountryLive\"], inplace=True)"
      ],
      "execution_count": 0,
      "outputs": [
        {
          "output_type": "stream",
          "text": [
            "318\n"
          ],
          "name": "stdout"
        }
      ]
    },
    {
      "cell_type": "markdown",
      "metadata": {
        "id": "1a3BCuZuX3P3",
        "colab_type": "text"
      },
      "source": [
        "#### Average spent per month in the US, India, the United Kingdom and Canada"
      ]
    },
    {
      "cell_type": "code",
      "metadata": {
        "id": "bmYtVJrHX3P4",
        "colab_type": "code",
        "outputId": "cb56bde9-80c9-4047-ed7e-bdb89f614ca3",
        "colab": {
          "base_uri": "https://localhost:8080/",
          "height": 119
        }
      },
      "source": [
        "# money_by_country = fcc_good[[\"CountryLive\",\"MoneyForLearning\"]].groupby(\"CountryLive\").agg({'CountryLive':'size', 'MoneyForLearning':'mean'})\n",
        "money_by_country = fcc_good[[\"CountryLive\",\"MoneyPerMonth\"]].groupby(\"CountryLive\").mean()\n",
        "money_by_country[\"MoneyPerMonth\"][[\"United States of America\", \"India\", \"Canada\", \"United Kingdom\"]]"
      ],
      "execution_count": 0,
      "outputs": [
        {
          "output_type": "execute_result",
          "data": {
            "text/plain": [
              "CountryLive\n",
              "United States of America    224.358040\n",
              "India                        82.459742\n",
              "Canada                       89.241412\n",
              "United Kingdom               39.590319\n",
              "Name: MoneyPerMonth, dtype: float64"
            ]
          },
          "metadata": {
            "tags": []
          },
          "execution_count": 13
        }
      ]
    },
    {
      "cell_type": "markdown",
      "metadata": {
        "id": "QOZ-hohnX3P7",
        "colab_type": "text"
      },
      "source": [
        "The results for the UK and Canada are surprisingly low. We should analyse the outliers."
      ]
    },
    {
      "cell_type": "code",
      "metadata": {
        "id": "00CW5ATQX3P8",
        "colab_type": "code",
        "outputId": "8492019c-7eb3-4f9b-df37-d34521436a5a",
        "colab": {
          "base_uri": "https://localhost:8080/",
          "height": 321
        }
      },
      "source": [
        "import seaborn as sns\n",
        "\n",
        "top_4 = fcc_good[fcc_good['CountryLive'].str.contains('United States of America|India|United Kingdom|Canada')]\n",
        "sns.boxplot(y='MoneyPerMonth', x='CountryLive', data = top_4)"
      ],
      "execution_count": 0,
      "outputs": [
        {
          "output_type": "execute_result",
          "data": {
            "text/plain": [
              "<matplotlib.axes._subplots.AxesSubplot at 0x7f6f64459080>"
            ]
          },
          "metadata": {
            "tags": []
          },
          "execution_count": 14
        },
        {
          "output_type": "display_data",
          "data": {
            "image/png": "[encoded data removed]",
            "text/plain": [
              "<Figure size 432x288 with 1 Axes>"
            ]
          },
          "metadata": {
            "tags": []
          }
        }
      ]
    },
    {
      "cell_type": "code",
      "metadata": {
        "id": "dLYvAlyJX3P_",
        "colab_type": "code",
        "colab": {}
      },
      "source": [
        "## Remove the outliers\n",
        "outlier_condition = top_4[\"MoneyPerMonth\"] <= 10000\n",
        "top_4 = top_4[outlier_condition]"
      ],
      "execution_count": 0,
      "outputs": []
    },
    {
      "cell_type": "markdown",
      "metadata": {
        "id": "mwoe0XhcX3QC",
        "colab_type": "text"
      },
      "source": [
        "Repeate the process to make sure there is no outliers"
      ]
    },
    {
      "cell_type": "code",
      "metadata": {
        "id": "1uQo2oVaX3QD",
        "colab_type": "code",
        "outputId": "a50c30af-5b74-42f8-eefb-93fce2e0820d",
        "colab": {
          "base_uri": "https://localhost:8080/",
          "height": 119
        }
      },
      "source": [
        "top_4.groupby(\"CountryLive\").mean()[\"MoneyPerMonth\"]"
      ],
      "execution_count": 0,
      "outputs": [
        {
          "output_type": "execute_result",
          "data": {
            "text/plain": [
              "CountryLive\n",
              "Canada                       89.241412\n",
              "India                        82.459742\n",
              "United Kingdom               39.590319\n",
              "United States of America    166.364013\n",
              "Name: MoneyPerMonth, dtype: float64"
            ]
          },
          "metadata": {
            "tags": []
          },
          "execution_count": 16
        }
      ]
    },
    {
      "cell_type": "code",
      "metadata": {
        "id": "FgmAqoApX3QG",
        "colab_type": "code",
        "outputId": "80b712bd-ce22-4a90-f0b9-b3316b0a818b",
        "colab": {
          "base_uri": "https://localhost:8080/",
          "height": 321
        }
      },
      "source": [
        "# top_4 = fcc_good[fcc_good['CountryLive'].str.contains('United States of America|India|United Kingdom|Canada')]\n",
        "sns.boxplot(y='MoneyPerMonth', x='CountryLive', data = top_4)"
      ],
      "execution_count": 0,
      "outputs": [
        {
          "output_type": "execute_result",
          "data": {
            "text/plain": [
              "<matplotlib.axes._subplots.AxesSubplot at 0x7f6f64406908>"
            ]
          },
          "metadata": {
            "tags": []
          },
          "execution_count": 17
        },
        {
          "output_type": "display_data",
          "data": {
            "image/png": "[encoded data removed]",
            "text/plain": [
              "<Figure size 432x288 with 1 Axes>"
            ]
          },
          "metadata": {
            "tags": []
          }
        }
      ]
    },
    {
      "cell_type": "code",
      "metadata": {
        "id": "cCL3tLUHX3QK",
        "colab_type": "code",
        "colab": {}
      },
      "source": [
        "india_outliers = top_4[(top_4['CountryLive'] == 'India') &  (top_4['MoneyPerMonth'] >= 2500)]\n",
        "top_4 = top_4.drop(india_outliers.index)\n",
        "canada_outliers = top_4[(top_4['CountryLive'] == 'Canada') & (top_4['MoneyPerMonth'] > 4500)]\n",
        "top_4 = top_4.drop(canada_outliers.index)"
      ],
      "execution_count": 0,
      "outputs": []
    },
    {
      "cell_type": "code",
      "metadata": {
        "id": "CII-Wo9LX3QN",
        "colab_type": "code",
        "colab": {}
      },
      "source": [
        "# US outliers: paid more than 6000 a month, never attended a bootcamp or have been programming for less than 3 months\n",
        "us_outliers_1 = top_4[(top_4['CountryLive'] == 'United States of America') &  (top_4['MoneyPerMonth'] >= 6000)]\n",
        "top_4 = top_4.drop(us_outliers_1.index)\n",
        "us_outliers_2 = top_4[(top_4['CountryLive'] == 'United States of America') & (top_4['MoneyPerMonth'] >= 6000) &(top_4['AttendedBootcamp'] == 0)]\n",
        "top_4 = top_4.drop(us_outliers_2.index)\n",
        "us_outliers_3 = top_4[(top_4['CountryLive'] == 'United States of America') & (top_4['MoneyPerMonth'] >= 6000) & (top_4['MonthsProgramming'] <= 3)]\n",
        "top_4 = top_4.drop(us_outliers_3.index)"
      ],
      "execution_count": 0,
      "outputs": []
    },
    {
      "cell_type": "code",
      "metadata": {
        "id": "9WhoPuMQX3QV",
        "colab_type": "code",
        "outputId": "7d4a91aa-a55f-437a-b974-800a3265554c",
        "colab": {
          "base_uri": "https://localhost:8080/",
          "height": 321
        }
      },
      "source": [
        "sns.boxplot(y='MoneyPerMonth', x='CountryLive', data = top_4)"
      ],
      "execution_count": 0,
      "outputs": [
        {
          "output_type": "execute_result",
          "data": {
            "text/plain": [
              "<matplotlib.axes._subplots.AxesSubplot at 0x7f6f64334eb8>"
            ]
          },
          "metadata": {
            "tags": []
          },
          "execution_count": 20
        },
        {
          "output_type": "display_data",
          "data": {
            "image/png": "[encoded data removed]",
            "text/plain": [
              "<Figure size 432x288 with 1 Axes>"
            ]
          },
          "metadata": {
            "tags": []
          }
        }
      ]
    },
    {
      "cell_type": "code",
      "metadata": {
        "id": "r52NbwX8X3Qc",
        "colab_type": "code",
        "outputId": "5b49be92-830e-4399-ba99-4bc778db537e",
        "colab": {
          "base_uri": "https://localhost:8080/",
          "height": 119
        }
      },
      "source": [
        "top_4.groupby('CountryLive').mean()['MoneyPerMonth']"
      ],
      "execution_count": 0,
      "outputs": [
        {
          "output_type": "execute_result",
          "data": {
            "text/plain": [
              "CountryLive\n",
              "Canada                       89.241412\n",
              "India                        44.289584\n",
              "United Kingdom               39.590319\n",
              "United States of America    148.575221\n",
              "Name: MoneyPerMonth, dtype: float64"
            ]
          },
          "metadata": {
            "tags": []
          },
          "execution_count": 21
        }
      ]
    },
    {
      "cell_type": "code",
      "metadata": {
        "id": "7bmxMXlcX3Qe",
        "colab_type": "code",
        "outputId": "648e9f30-9397-4659-e76f-1e794ccffa80",
        "colab": {
          "base_uri": "https://localhost:8080/",
          "height": 102
        }
      },
      "source": [
        "top_4['CountryLive'].value_counts(normalize = True) * 100"
      ],
      "execution_count": 0,
      "outputs": [
        {
          "output_type": "execute_result",
          "data": {
            "text/plain": [
              "United States of America    73.759270\n",
              "India                       12.207644\n",
              "United Kingdom               8.100399\n",
              "Canada                       5.932687\n",
              "Name: CountryLive, dtype: float64"
            ]
          },
          "metadata": {
            "tags": []
          },
          "execution_count": 22
        }
      ]
    },
    {
      "cell_type": "markdown",
      "metadata": {
        "id": "RH0_biZEX3Qh",
        "colab_type": "text"
      },
      "source": [
        "### US is the best market to advertise in"
      ]
    }
  ]
}